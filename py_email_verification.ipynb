{
  "nbformat": 4,
  "nbformat_minor": 0,
  "metadata": {
    "colab": {
      "provenance": []
    },
    "kernelspec": {
      "name": "python3",
      "display_name": "Python 3"
    },
    "language_info": {
      "name": "python"
    }
  },
  "cells": [
    {
      "cell_type": "code",
      "execution_count": null,
      "metadata": {
        "id": "uYLOcLafVrQB"
      },
      "outputs": [],
      "source": [
        "import smtplib\n",
        "import random\n",
        "\n",
        "# Generate 6-digit OTP without list comprehension\n",
        "def generate_otp():\n",
        "    otp = ''\n",
        "    for _ in range(6):\n",
        "        otp += str(random.randint(0, 9))\n",
        "    return otp\n",
        "\n",
        "# Generate OTP\n",
        "otp = generate_otp()\n",
        "\n",
        "# Purpose: Creates a random 6-digit numeric OTP.\n",
        "\n",
        "# How: Uses a for loop and random.randint(0, 9) to generate each digit, then appends it to a string.\n",
        "\n",
        "# Returns: A string representing a 6-digit OTP (e.g., \"845263\")."
      ]
    },
    {
      "cell_type": "code",
      "source": [
        "\n",
        "\n",
        "# Email details\n",
        "sender = \"hello@demomailtrap.co\"   # This is the email address from which the OTP is sent (provided by Mailtrap).\n",
        "receiver = \"faxorem211@dpcos.com\"  # This is the email address to which the OTP will be sent (test address from Mailtrap inbox).\n",
        "smtp_server = \"live.smtp.mailtrap.io\"  # SMTP (Simple Mail Transfer Protocol) server to handle email delivery. Here, it's Mailtrap’s testing server.\n",
        "port = 587                               # Mailtrap's SMTP port for sending emails securely. Port 587 is commonly used for TLS-encrypted email sending.\n",
        "username = \"api\"      # These are your Mailtrap SMTP credentials (API-based login), needed to log in to the SMTP server and authenticate your session.\n",
        "password = \"ea64fe576aa6cb52ae768cf778191c1b\"\n",
        "\n",
        "# Email content\n",
        "message = f\"\"\"\\\n",
        "Subject: Login Credentials\n",
        "To: {receiver}\n",
        "From: {sender}\n",
        "\n",
        "Your OTP is {otp}.\n",
        "\"\"\"\n",
        "\n",
        "# This creates a formatted email with:\n",
        "\n",
        "# A subject line: \"Login Credentials\"\n",
        "\n",
        "# A To and From header\n",
        "\n",
        "# A body message that says: \"Your OTP is 123456\" (or whatever OTP was generated)\n",
        "\n",
        "# The f\"\"\"...\"\"\" allows you to dynamically include the OTP inside the message string using {otp}\n",
        "\n",
        "\n",
        "\n",
        "# Send the OTP via email\n",
        "try:\n",
        "    with smtplib.SMTP(smtp_server, port) as server:    # Opens a connection to Mailtrap’s SMTP server using the provided smtp_server and port. with is used here to automatically close the connection when done.\n",
        "        server.starttls()     # Starts a TLS (Transport Layer Security) session for encrypted communication.This keeps your credentials and email data safe during transfer.\n",
        "        server.login(username, password)  # Logs into Mailtrap using your username and API password.Required before you’re allowed to send an emil\n",
        "        server.sendmail(sender, receiver, message) # Actually sends the email from the sender to the receiver with the OTP in the message.\n",
        "        print(\"OTP has been sent to your email.\")  # Confirms success on the console.\n",
        "except Exception as e:\n",
        "    print(\"Failed to send OTP email:\", e)\n",
        "    exit()  # Exit if email sending fails\n",
        "#If anything goes wrong (wrong credentials, internet failure, SMTP rejection, etc.), this catches the error.\n",
        "\n",
        "# e contains the actual error message (like “Authentication failed”).\n",
        "\n",
        "# exit() safely stops the program, since continuing without a sent OTP doesn’t make sense.\n",
        "\n"
      ],
      "metadata": {
        "id": "kT4lKbAHV48i"
      },
      "execution_count": null,
      "outputs": []
    },
    {
      "cell_type": "code",
      "source": [
        "def prompt_user_for_otp(attempt):\n",
        "    return input(f\"Attempt {attempt}: Enter the OTP sent to your email: \").strip()\n",
        "# This function asks the user to enter the OTP.\n",
        "\n",
        "# It uses input() and shows which attempt they're on (1 to 5).\n",
        "\n",
        "# .strip() removes any extra spaces before/after the input.\n",
        "\n",
        "def verify_otp(user_input, actual_otp):\n",
        "    return user_input == actual_otp\n",
        "# Compares the user's input (user_input) with the actual OTP that was generated earlier (actual_otp).\n",
        "\n",
        "#Returns True if it matches, otherwise False\n",
        "\n",
        "# Allow user 5 attempts to enter correct OTP\n",
        "max_attempts = 5\n",
        "for attempt in range(1, max_attempts + 1):\n",
        "    try:\n",
        "        user_input = prompt_user_for_otp(attempt)\n",
        "\n",
        "        if verify_otp(user_input, otp):\n",
        "            print(\"OTP verified successfully. Access granted.\")\n",
        "            break\n",
        "        else:\n",
        "            print(\"Incorrect OTP.\")\n",
        "            if attempt < max_attempts:\n",
        "                print(f\"You have {max_attempts - attempt} attempt(s) left.\\n\")\n",
        "            else:\n",
        "                print(\"All attempts used. Access denied.\")\n",
        "    except Exception as e:\n",
        "        print(\"An error occurred while processing your input:\", e)\n",
        "\n",
        "# Users get 5 attempts to enter the correct OTP.\n",
        "4\n",
        "44\n",
        "\n",
        "# If the correct OTP is entered, the system prints a success message and stops.\n",
        "\n",
        "# If all 5 attempts are used without success, it denies access.\n",
        "\n",
        "# Any input errors (like keyboard interruption or type errors) are handled gracefully.\n",
        "\n",
        "# This try-except block catches any unexpected errors (like keyboard interrupt, or system errors), and prints what went wrong.\n"
      ],
      "metadata": {
        "id": "6yNVr4IeWAZ6"
      },
      "execution_count": null,
      "outputs": []
    },
    {
      "cell_type": "code",
      "source": [],
      "metadata": {
        "id": "xI-pUmnFWKGZ"
      },
      "execution_count": null,
      "outputs": []
    },
    {
      "cell_type": "code",
      "source": [],
      "metadata": {
        "id": "HipbHSuLWKjk"
      },
      "execution_count": null,
      "outputs": []
    }
  ]
}